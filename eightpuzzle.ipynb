{
 "cells": [
  {
   "cell_type": "markdown",
   "metadata": {},
   "source": [
    "# Relatório - Busca Heurística (8-puzzle)"
   ]
  },
  {
   "cell_type": "markdown",
   "metadata": {},
   "source": [
    "Alunos:\n",
    "- Caio Cargnin Cardoso\n",
    "- Diego Marzarotto\n",
    "\n",
    "---"
   ]
  },
  {
   "cell_type": "markdown",
   "metadata": {},
   "source": [
    "## Implementação"
   ]
  },
  {
   "cell_type": "code",
   "execution_count": 2,
   "metadata": {
    "collapsed": true
   },
   "outputs": [],
   "source": [
    "import numpy as np\n",
    "from eightpuzzle import Nodo, BuscaHeuristica8Puzzle, Interface"
   ]
  },
  {
   "cell_type": "markdown",
   "metadata": {},
   "source": [
    "O programa consiste de um script python, que utiliza 3 classes ao  \n",
    "realizar a busca A* para encontrar a solução do jogo 8-puzzle.\n",
    "\n",
    "Além das bibliotecas nativas do python, o script usa também o *numpy*,  \n",
    "portanto, antes de rodar o script é necessário instalar a biblioteca.  \n",
    "Caso esteja usado o *pip* para gerenciar as dependências, basta rodar:\n",
    "\n",
    "`sudo pip install -r requirements.txt`\n",
    "\n",
    "Caso contrário, instale o pip antes. No Ubuntu basta executar:\n",
    "\n",
    "`sudo apt-get install python-pip`\n",
    "\n",
    "Para instruções em outros sistemas operacionais, consulte o google. :)  \n",
    "Para utilizar o script, ele deve ser executado em um terminal. \n",
    "\n",
    "`./eightpuzzle.py`\n",
    "\n",
    "Ao ser executado, o script apresenta a seguinte saída para o usuário,  \n",
    "que deve então entrar com um estado válido do tabuleiro.  \n",
    "Em seguida é mostrado o caminho até a solução:"
   ]
  },
  {
   "cell_type": "code",
   "execution_count": 2,
   "metadata": {
    "collapsed": false
   },
   "outputs": [
    {
     "name": "stdout",
     "output_type": "stream",
     "text": [
      "\n",
      "### 8-puzzle ###\n",
      "\n",
      "Entre com um estado do tabuleiro,\n",
      "com os números separados por espaços,\n",
      "representando o espaço vazio com um X:\n",
      "\n",
      "Ex: 1 2 3 4 5 6 7 8 X = equivalente a |1 2 3|\n",
      "                                      |4 5 6|\n",
      "                                      |7 8 X|\n",
      "\n",
      "\n",
      "> 1 2 3 4 5 6 7 X 8\n",
      "\n",
      "\n",
      "|1 2 3|\n",
      "|4 5 6|\n",
      "|7 X 8|\n",
      "   |\n",
      "   v\n",
      "|1 2 3|\n",
      "|4 5 6|\n",
      "|7 8 X|\n",
      "\n",
      "## Número de nodos visitados: 2\n",
      "## Maior quantidade de nodos na fronteira: 3\n",
      "## Número de passos: 1\n",
      "## Heurística utilizada: h2\n"
     ]
    }
   ],
   "source": [
    "Interface().iniciar('h2', loop=False) # internamente o script executa isso, com loop=True"
   ]
  },
  {
   "cell_type": "markdown",
   "metadata": {},
   "source": [
    "---"
   ]
  },
  {
   "cell_type": "markdown",
   "metadata": {},
   "source": [
    "Podem ser passadas as diferentes heurísticas implementadas como  parâmetros para o script.\n",
    "\n",
    "`./eighpuzzle.py h1`  \n",
    "`./eighpuzzle.py h2`  \n",
    "`./eighpuzzle.py h3`  \n",
    "\n",
    "---"
   ]
  },
  {
   "cell_type": "markdown",
   "metadata": {},
   "source": [
    "A seguir, uma breve descrição das classes existentes,  \n",
    "e o código de seus principais métodos:  "
   ]
  },
  {
   "cell_type": "markdown",
   "metadata": {},
   "source": [
    "### Classe Nodo\n",
    "\n",
    "---"
   ]
  },
  {
   "cell_type": "markdown",
   "metadata": {},
   "source": [
    "Responsável por representar um estado do tabuleiro.\n",
    "\n",
    "Esta classe também é capaz de gerar seus estados sucessores,  \n",
    "além de saber determinar se é ou não um nodo objetivo.  \n",
    "O cálculo do custo e das heurísticas também é responsabilidade do Nodo.\n",
    "\n",
    "O cálculo do custo é representado através da função f:\n",
    "\n",
    "- **f**: número de movimentos anteriores até se atingir o estado atual;\n",
    "\n",
    "Três heurísticas distintas podem ser utilizadas:\n",
    "\n",
    "- **h1**: número de peças fora do lugar;\n",
    "- **h2**: distância manhattan de cada peça em relação ao seu lugar original;\n",
    "- **h3**: média simples entre h1 e h2;\n",
    "\n",
    "*Referência: Russel; Norvig, 2010*\n",
    "\n",
    "---"
   ]
  },
  {
   "cell_type": "code",
   "execution_count": 3,
   "metadata": {
    "collapsed": true
   },
   "outputs": [],
   "source": [
    "def f(self):\n",
    "    '''Cálculo do custo, baseado na quantidade movimentos até se atingir o estado atual.'''\n",
    "    custo = 0\n",
    "    nodo = self\n",
    "    while nodo.antecessor:\n",
    "        custo += 1\n",
    "        nodo = nodo.antecessor\n",
    "\n",
    "    return custo"
   ]
  },
  {
   "cell_type": "code",
   "execution_count": 4,
   "metadata": {
    "collapsed": true
   },
   "outputs": [],
   "source": [
    "def h1(self):\n",
    "    '''Heurística baseada no número de peças fora do lugar.'''\n",
    "    return np.sum(self.estado != self.SOLUCAO)"
   ]
  },
  {
   "cell_type": "code",
   "execution_count": 5,
   "metadata": {
    "collapsed": true
   },
   "outputs": [],
   "source": [
    "def h2(self):\n",
    "    '''Heurística baseada na distância manhattan de cada peça'''\n",
    "    custo_estimado = 0\n",
    "    for i in xrange(8):\n",
    "        pos_ideal = np.array(divmod(i,3))\n",
    "        pos_atual = self.posicao(i+1, self.estado)\n",
    "        custo_estimado += self.distancia_manhattan(pos_ideal, pos_atual)\n",
    "\n",
    "    return custo_estimado\n",
    "\n",
    "def distancia_manhattan(self, pos1, pos2):\n",
    "        return np.sum(np.abs(pos1 - pos2))"
   ]
  },
  {
   "cell_type": "code",
   "execution_count": 6,
   "metadata": {
    "collapsed": true
   },
   "outputs": [],
   "source": [
    "def h3(self):\n",
    "    '''Heurística baseada na média simples entre h1 e h2.'''\n",
    "    return ( self.h1() + self.h2() ) / 2.0"
   ]
  },
  {
   "cell_type": "markdown",
   "metadata": {},
   "source": [
    "### Classe BuscaHeuristica8Puzzle\n",
    "\n",
    "---"
   ]
  },
  {
   "cell_type": "markdown",
   "metadata": {},
   "source": [
    "Responsável por realizar a busca A* da solução para o jogo 8-puzzle.\n",
    "\n",
    "Implementa a lógica de busca da solução para o jogo 8-puzzle,  \n",
    "utilizando para isso o algoritmo A*, no qual utiliza-se uma  \n",
    "heurística para estimar o custo de cada estado do tabuleiro  \n",
    "em relação ao estado final do jogo.\n",
    "\n",
    "*Referência: Russel; Norvig, 2010*\n",
    "\n",
    "---"
   ]
  },
  {
   "cell_type": "code",
   "execution_count": 7,
   "metadata": {
    "collapsed": true
   },
   "outputs": [],
   "source": [
    "def buscar(self, estado_atual):\n",
    "    '''Método responsável pela busca propriamente dita.\n",
    "\n",
    "    Para armazenar os nodos presentes na fronteira, durante a busca,\n",
    "    foi utilizada uma lista de prioridade, que apesar de ser uma lista simples do python,\n",
    "    é manipulada utilizando a biblioteca 'heapq', nativa da linguagem,\n",
    "    que permite que operações de inserção e remoção ('pop') mantenham\n",
    "    as propriedades de ordenação da lista de prioridade.\n",
    "\n",
    "    Dessa forma, garante-se que o próximo elemento a ser retirado\n",
    "    através da operação \"pop\" seja o Nodo com menor custo estimado;\n",
    "\n",
    "    Para auxiliar na verificação de Nodos já presentes na fronteira, \n",
    "    é também utilizada uma tabela de hash ('dict' do python),\n",
    "    na qual a chave é uma função hash baseada apenas no estado de cada Nodo.\n",
    "\n",
    "    '''\n",
    "    assert type(estado_atual) == np.ndarray, 'O estado deve ser representado por uma matriz numpy'\n",
    "    assert estado_atual.shape == (3,3), 'A matriz de estados deve ser uma matriz 3x3'\n",
    "\n",
    "    self.fronteira = list()\n",
    "    self.dict_fronteira = dict()\n",
    "    self.visitados = set()\n",
    "    self.max_fronteira = 1\n",
    "\n",
    "    nodo_atual = Nodo(estado_atual, antecessor=None, heuristica=self.heuristica)\n",
    "    self.visitados.add(nodo_atual)\n",
    "\n",
    "    while not nodo_atual.objetivo():\n",
    "\n",
    "        for nodo in nodo_atual.sucessores():\n",
    "            nodo_na_fronteira = self.dict_fronteira.get(hash(nodo))\n",
    "            if not nodo_na_fronteira and (not nodo in self.visitados):\n",
    "                heapq.heappush(self.fronteira, nodo)\n",
    "                self.dict_fronteira[hash(nodo)] = nodo\n",
    "            elif nodo_na_fronteira and nodo_na_fronteira.custo > nodo.custo:\n",
    "                self.fronteira.remove(nodo_na_fronteira)\n",
    "                heapq.heappush(self.fronteira, nodo)\n",
    "                self.dict_fronteira[hash(nodo)] = nodo\n",
    "\n",
    "        if len(self.fronteira) > self.max_fronteira:\n",
    "            self.max_fronteira = len(self.fronteira)\n",
    "\n",
    "        if len(self.fronteira) > 0:\n",
    "            nodo_atual = heapq.heappop(self.fronteira)\n",
    "            del self.dict_fronteira[hash(nodo_atual)]\n",
    "            self.visitados.add(nodo_atual)\n",
    "        else:\n",
    "            return null\n",
    "\n",
    "    return nodo_atual"
   ]
  },
  {
   "cell_type": "markdown",
   "metadata": {},
   "source": [
    "### Classe Interface\n",
    "\n",
    "---"
   ]
  },
  {
   "cell_type": "markdown",
   "metadata": {},
   "source": [
    "Responsável por interagir com o usuário e apresentar o resultado da busca.\n",
    "\n",
    "Além de mostrar o caminho percorrido até a solução,  \n",
    "apresenta também o número de passos,  \n",
    "o tamanho máximo da fronteira durante a busca  \n",
    "e o número de nodos visitados até a solução.  \n",
    "\n",
    "Os detalhes de implementação serão omitidos neste relatório,  \n",
    "mas basta dizer que é possível apresentar o resultado completo  \n",
    "da busca, com o caminho completo, ou apenas o resumo.\n",
    "\n",
    "---"
   ]
  },
  {
   "cell_type": "markdown",
   "metadata": {},
   "source": [
    "## Exemplos"
   ]
  },
  {
   "cell_type": "markdown",
   "metadata": {},
   "source": [
    "**Um exemplo mínimo, utilizando a heurística h2, com dois passos de distância em relação ao objetivo:**\n",
    "\n",
    "---"
   ]
  },
  {
   "cell_type": "code",
   "execution_count": 8,
   "metadata": {
    "collapsed": false
   },
   "outputs": [
    {
     "name": "stdout",
     "output_type": "stream",
     "text": [
      "\n",
      "\n",
      "|1 2 3|\n",
      "|4 5 6|\n",
      "|X 7 8|\n",
      "   |\n",
      "   v\n",
      "|1 2 3|\n",
      "|4 5 6|\n",
      "|7 X 8|\n",
      "   |\n",
      "   v\n",
      "|1 2 3|\n",
      "|4 5 6|\n",
      "|7 8 X|\n",
      "\n",
      "## Número de nodos visitados: 3\n",
      "## Maior quantidade de nodos na fronteira: 3\n",
      "## Número de passos: 2\n",
      "## Heurística utilizada: h2\n"
     ]
    }
   ],
   "source": [
    "busca = BuscaHeuristica8Puzzle(heuristica='h2')\n",
    "nodo_final = busca.buscar(np.array([\n",
    "    [1    , 2    , 3    ],\n",
    "    [4    , 5    , 6    ],\n",
    "    [None , 7    , 8    ]\n",
    "]))\n",
    "Interface().mostrar_solucao(busca, nodo_final)"
   ]
  },
  {
   "cell_type": "markdown",
   "metadata": {},
   "source": [
    "---\n",
    "\n",
    "**Um exemplo maior, exemplificando a diferença entre as heurísticas:**\n",
    "\n",
    "---"
   ]
  },
  {
   "cell_type": "code",
   "execution_count": 9,
   "metadata": {
    "collapsed": false
   },
   "outputs": [
    {
     "name": "stdout",
     "output_type": "stream",
     "text": [
      "\n",
      "\n",
      "\n",
      "## Número de nodos visitados: 165\n",
      "## Maior quantidade de nodos na fronteira: 105\n",
      "## Número de passos: 13\n",
      "## Heurística utilizada: h1\n"
     ]
    }
   ],
   "source": [
    "busca = BuscaHeuristica8Puzzle(heuristica='h1')\n",
    "nodo_final = busca.buscar(np.array([\n",
    "    [1    , 2    , 3    ],\n",
    "    [4    , 5    , None ],\n",
    "    [6    , 7    , 8    ]\n",
    "]))\n",
    "Interface().mostrar_solucao(busca, nodo_final, resumido=True)"
   ]
  },
  {
   "cell_type": "code",
   "execution_count": 10,
   "metadata": {
    "collapsed": false
   },
   "outputs": [
    {
     "name": "stdout",
     "output_type": "stream",
     "text": [
      "\n",
      "\n",
      "\n",
      "## Número de nodos visitados: 81\n",
      "## Maior quantidade de nodos na fronteira: 56\n",
      "## Número de passos: 13\n",
      "## Heurística utilizada: h2\n"
     ]
    }
   ],
   "source": [
    "busca = BuscaHeuristica8Puzzle(heuristica='h2')\n",
    "nodo_final = busca.buscar(np.array([\n",
    "    [1    , 2    , 3    ],\n",
    "    [4    , 5    , None ],\n",
    "    [6    , 7    , 8    ]\n",
    "]))\n",
    "Interface().mostrar_solucao(busca, nodo_final, resumido=True)"
   ]
  },
  {
   "cell_type": "code",
   "execution_count": 11,
   "metadata": {
    "collapsed": false
   },
   "outputs": [
    {
     "name": "stdout",
     "output_type": "stream",
     "text": [
      "\n",
      "\n",
      "\n",
      "## Número de nodos visitados: 102\n",
      "## Maior quantidade de nodos na fronteira: 64\n",
      "## Número de passos: 13\n",
      "## Heurística utilizada: h3\n"
     ]
    }
   ],
   "source": [
    "busca = BuscaHeuristica8Puzzle(heuristica='h3')\n",
    "nodo_final = busca.buscar(np.array([\n",
    "    [1    , 2    , 3    ],\n",
    "    [4    , 5    , None ],\n",
    "    [6    , 7    , 8    ]\n",
    "]))\n",
    "Interface().mostrar_solucao(busca, nodo_final, resumido=True)"
   ]
  },
  {
   "cell_type": "markdown",
   "metadata": {},
   "source": [
    "## Limitações"
   ]
  },
  {
   "cell_type": "markdown",
   "metadata": {},
   "source": [
    "O exemplo com maior número de passos que conseguimos resolver foi  \n",
    "com um estado distante 27 passos da solução, utilizando a heurística h2.  \n",
    "Para estados mais distantes, o algoritmo não concluiu a busca em um tempo hábil.\n",
    "\n",
    "As outras heurísticas não conseguiram executar uma busca com tantos passos.\n",
    "\n",
    "---"
   ]
  },
  {
   "cell_type": "code",
   "execution_count": 12,
   "metadata": {
    "collapsed": false,
    "scrolled": false
   },
   "outputs": [
    {
     "name": "stdout",
     "output_type": "stream",
     "text": [
      "\n",
      "\n",
      "|7 5 8|\n",
      "|2 3 4|\n",
      "|1 X 6|\n",
      "   |\n",
      "   v\n",
      "|7 5 8|\n",
      "|2 3 4|\n",
      "|1 6 X|\n",
      "   |\n",
      "   v\n",
      "|7 5 8|\n",
      "|2 3 X|\n",
      "|1 6 4|\n",
      "   |\n",
      "   v\n",
      "|7 5 X|\n",
      "|2 3 8|\n",
      "|1 6 4|\n",
      "   |\n",
      "   v\n",
      "|7 X 5|\n",
      "|2 3 8|\n",
      "|1 6 4|\n",
      "   |\n",
      "   v\n",
      "|7 3 5|\n",
      "|2 X 8|\n",
      "|1 6 4|\n",
      "   |\n",
      "   v\n",
      "|7 3 5|\n",
      "|2 8 X|\n",
      "|1 6 4|\n",
      "   |\n",
      "   v\n",
      "|7 3 5|\n",
      "|2 8 4|\n",
      "|1 6 X|\n",
      "   |\n",
      "   v\n",
      "|7 3 5|\n",
      "|2 8 4|\n",
      "|1 X 6|\n",
      "   |\n",
      "   v\n",
      "|7 3 5|\n",
      "|2 X 4|\n",
      "|1 8 6|\n",
      "   |\n",
      "   v\n",
      "|7 3 5|\n",
      "|2 4 X|\n",
      "|1 8 6|\n",
      "   |\n",
      "   v\n",
      "|7 3 X|\n",
      "|2 4 5|\n",
      "|1 8 6|\n",
      "   |\n",
      "   v\n",
      "|7 X 3|\n",
      "|2 4 5|\n",
      "|1 8 6|\n",
      "   |\n",
      "   v\n",
      "|X 7 3|\n",
      "|2 4 5|\n",
      "|1 8 6|\n",
      "   |\n",
      "   v\n",
      "|2 7 3|\n",
      "|X 4 5|\n",
      "|1 8 6|\n",
      "   |\n",
      "   v\n",
      "|2 7 3|\n",
      "|1 4 5|\n",
      "|X 8 6|\n",
      "   |\n",
      "   v\n",
      "|2 7 3|\n",
      "|1 4 5|\n",
      "|8 X 6|\n",
      "   |\n",
      "   v\n",
      "|2 7 3|\n",
      "|1 X 5|\n",
      "|8 4 6|\n",
      "   |\n",
      "   v\n",
      "|2 X 3|\n",
      "|1 7 5|\n",
      "|8 4 6|\n",
      "   |\n",
      "   v\n",
      "|X 2 3|\n",
      "|1 7 5|\n",
      "|8 4 6|\n",
      "   |\n",
      "   v\n",
      "|1 2 3|\n",
      "|X 7 5|\n",
      "|8 4 6|\n",
      "   |\n",
      "   v\n",
      "|1 2 3|\n",
      "|7 X 5|\n",
      "|8 4 6|\n",
      "   |\n",
      "   v\n",
      "|1 2 3|\n",
      "|7 4 5|\n",
      "|8 X 6|\n",
      "   |\n",
      "   v\n",
      "|1 2 3|\n",
      "|7 4 5|\n",
      "|X 8 6|\n",
      "   |\n",
      "   v\n",
      "|1 2 3|\n",
      "|X 4 5|\n",
      "|7 8 6|\n",
      "   |\n",
      "   v\n",
      "|1 2 3|\n",
      "|4 X 5|\n",
      "|7 8 6|\n",
      "   |\n",
      "   v\n",
      "|1 2 3|\n",
      "|4 5 X|\n",
      "|7 8 6|\n",
      "   |\n",
      "   v\n",
      "|1 2 3|\n",
      "|4 5 6|\n",
      "|7 8 X|\n",
      "\n",
      "## Número de nodos visitados: 4792\n",
      "## Maior quantidade de nodos na fronteira: 2595\n",
      "## Número de passos: 27\n",
      "## Heurística utilizada: h2\n"
     ]
    }
   ],
   "source": [
    "busca = BuscaHeuristica8Puzzle(heuristica='h2')\n",
    "nodo_final = busca.buscar(np.array([\n",
    "    [7    , 5    , 8    ],\n",
    "    [2    , 3    , 4    ],\n",
    "    [1    , None , 6    ]\n",
    "]))\n",
    "Interface().mostrar_solucao(busca, nodo_final)"
   ]
  },
  {
   "cell_type": "code",
   "execution_count": 20,
   "metadata": {
    "collapsed": false
   },
   "outputs": [],
   "source": [
    "x = np.array([\n",
    "    [7    , 5    , 8    ],\n",
    "    [2    , 3    , 4    ],\n",
    "    [1    , None , 6    ]\n",
    "])"
   ]
  },
  {
   "cell_type": "code",
   "execution_count": 21,
   "metadata": {
    "collapsed": false
   },
   "outputs": [],
   "source": [
    "x = x.flatten()"
   ]
  },
  {
   "cell_type": "code",
   "execution_count": 22,
   "metadata": {
    "collapsed": false
   },
   "outputs": [
    {
     "data": {
      "text/plain": [
       "array([7, 5, 8, 2, 3, 4, 1, None, 6], dtype=object)"
      ]
     },
     "execution_count": 22,
     "metadata": {},
     "output_type": "execute_result"
    }
   ],
   "source": [
    "x"
   ]
  },
  {
   "cell_type": "code",
   "execution_count": 16,
   "metadata": {
    "collapsed": false
   },
   "outputs": [
    {
     "data": {
      "text/plain": [
       "array([7, 5, 8, 2, 3, 4, 1, None, 6], dtype=object)"
      ]
     },
     "execution_count": 16,
     "metadata": {},
     "output_type": "execute_result"
    }
   ],
   "source": [
    "x"
   ]
  },
  {
   "cell_type": "code",
   "execution_count": 29,
   "metadata": {
    "collapsed": false
   },
   "outputs": [
    {
     "name": "stdout",
     "output_type": "stream",
     "text": [
      "7 5\n",
      "7 2\n",
      "7 3\n",
      "7 4\n",
      "7 1\n",
      "7 6\n",
      "5 2\n",
      "5 3\n",
      "5 4\n",
      "5 1\n",
      "8 2\n",
      "8 3\n",
      "8 4\n",
      "8 1\n",
      "8 6\n",
      "2 1\n",
      "3 1\n",
      "4 1\n"
     ]
    }
   ],
   "source": []
  },
  {
   "cell_type": "code",
   "execution_count": null,
   "metadata": {
    "collapsed": true
   },
   "outputs": [],
   "source": []
  }
 ],
 "metadata": {
  "kernelspec": {
   "display_name": "Python 2",
   "language": "python",
   "name": "python2"
  },
  "language_info": {
   "codemirror_mode": {
    "name": "ipython",
    "version": 2
   },
   "file_extension": ".py",
   "mimetype": "text/x-python",
   "name": "python",
   "nbconvert_exporter": "python",
   "pygments_lexer": "ipython2",
   "version": "2.7.9"
  }
 },
 "nbformat": 4,
 "nbformat_minor": 0
}
